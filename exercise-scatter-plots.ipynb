{
 "cells": [
  {
   "cell_type": "markdown",
   "id": "a9bc729d",
   "metadata": {
    "papermill": {
     "duration": 0.006805,
     "end_time": "2025-07-14T12:28:05.434375",
     "exception": false,
     "start_time": "2025-07-14T12:28:05.427570",
     "status": "completed"
    },
    "tags": []
   },
   "source": [
    "**This notebook is an exercise in the [Data Visualization](https://www.kaggle.com/learn/data-visualization) course.  You can reference the tutorial at [this link](https://www.kaggle.com/alexisbcook/scatter-plots).**\n",
    "\n",
    "---\n"
   ]
  },
  {
   "cell_type": "markdown",
   "id": "14ed0817",
   "metadata": {
    "papermill": {
     "duration": 0.005488,
     "end_time": "2025-07-14T12:28:05.446125",
     "exception": false,
     "start_time": "2025-07-14T12:28:05.440637",
     "status": "completed"
    },
    "tags": []
   },
   "source": [
    "In this exercise, you will use your new knowledge to propose a solution to a real-world scenario.  To succeed, you will need to import data into Python, answer questions using the data, and generate **scatter plots** to understand patterns in the data.\n",
    "\n",
    "## Scenario\n",
    "\n",
    "You work for a major candy producer, and your goal is to write a report that your company can use to guide the design of its next product.  Soon after starting your research, you stumble across this [very interesting dataset](https://fivethirtyeight.com/features/the-ultimate-halloween-candy-power-ranking/) containing results from a fun survey to crowdsource favorite candies.\n",
    "\n",
    "## Setup\n",
    "\n",
    "Run the next cell to import and configure the Python libraries that you need to complete the exercise."
   ]
  },
  {
   "cell_type": "code",
   "execution_count": 1,
   "id": "382bf4ea",
   "metadata": {
    "execution": {
     "iopub.execute_input": "2025-07-14T12:28:05.459190Z",
     "iopub.status.busy": "2025-07-14T12:28:05.458785Z",
     "iopub.status.idle": "2025-07-14T12:28:09.363094Z",
     "shell.execute_reply": "2025-07-14T12:28:09.362082Z"
    },
    "papermill": {
     "duration": 3.912632,
     "end_time": "2025-07-14T12:28:09.364520",
     "exception": false,
     "start_time": "2025-07-14T12:28:05.451888",
     "status": "completed"
    },
    "tags": []
   },
   "outputs": [
    {
     "name": "stdout",
     "output_type": "stream",
     "text": [
      "Setup Complete\n"
     ]
    }
   ],
   "source": [
    "import pandas as pd\n",
    "pd.plotting.register_matplotlib_converters()\n",
    "import matplotlib.pyplot as plt\n",
    "%matplotlib inline\n",
    "import seaborn as sns\n",
    "print(\"Setup Complete\")"
   ]
  },
  {
   "cell_type": "markdown",
   "id": "1dbabc71",
   "metadata": {
    "papermill": {
     "duration": 0.00551,
     "end_time": "2025-07-14T12:28:09.376038",
     "exception": false,
     "start_time": "2025-07-14T12:28:09.370528",
     "status": "completed"
    },
    "tags": []
   },
   "source": [
    "The questions below will give you feedback on your work. Run the following cell to set up our feedback system."
   ]
  },
  {
   "cell_type": "code",
   "execution_count": 2,
   "id": "c71ad709",
   "metadata": {
    "execution": {
     "iopub.execute_input": "2025-07-14T12:28:09.389109Z",
     "iopub.status.busy": "2025-07-14T12:28:09.388573Z",
     "iopub.status.idle": "2025-07-14T12:28:09.470080Z",
     "shell.execute_reply": "2025-07-14T12:28:09.469083Z"
    },
    "papermill": {
     "duration": 0.089777,
     "end_time": "2025-07-14T12:28:09.471598",
     "exception": false,
     "start_time": "2025-07-14T12:28:09.381821",
     "status": "completed"
    },
    "tags": []
   },
   "outputs": [
    {
     "name": "stdout",
     "output_type": "stream",
     "text": [
      "Setup Complete\n"
     ]
    }
   ],
   "source": [
    "# Set up code checking\n",
    "import os\n",
    "if not os.path.exists(\"../input/candy.csv\"):\n",
    "    os.symlink(\"../input/data-for-datavis/candy.csv\", \"../input/candy.csv\") \n",
    "from learntools.core import binder\n",
    "binder.bind(globals())\n",
    "from learntools.data_viz_to_coder.ex4 import *\n",
    "print(\"Setup Complete\")"
   ]
  },
  {
   "cell_type": "markdown",
   "id": "0ce2e017",
   "metadata": {
    "papermill": {
     "duration": 0.005628,
     "end_time": "2025-07-14T12:28:09.483521",
     "exception": false,
     "start_time": "2025-07-14T12:28:09.477893",
     "status": "completed"
    },
    "tags": []
   },
   "source": [
    "## Step 1: Load the Data\n",
    "\n",
    "Read the candy data file into `candy_data`.  Use the `\"id\"` column to label the rows."
   ]
  },
  {
   "cell_type": "code",
   "execution_count": 3,
   "id": "c0ced403",
   "metadata": {
    "execution": {
     "iopub.execute_input": "2025-07-14T12:28:09.497321Z",
     "iopub.status.busy": "2025-07-14T12:28:09.497009Z",
     "iopub.status.idle": "2025-07-14T12:28:09.511249Z",
     "shell.execute_reply": "2025-07-14T12:28:09.510232Z"
    },
    "papermill": {
     "duration": 0.022414,
     "end_time": "2025-07-14T12:28:09.512561",
     "exception": false,
     "start_time": "2025-07-14T12:28:09.490147",
     "status": "completed"
    },
    "tags": []
   },
   "outputs": [
    {
     "data": {
      "application/javascript": [
       "parent.postMessage({\"jupyterEvent\": \"custom.exercise_interaction\", \"data\": {\"outcomeType\": 1, \"valueTowardsCompletion\": 0.3333333333333333, \"interactionType\": 1, \"questionType\": 1, \"questionId\": \"1_LoadData\", \"learnToolsVersion\": \"0.3.5\", \"failureMessage\": \"\", \"exceptionClass\": \"\", \"trace\": \"\"}}, \"*\")"
      ],
      "text/plain": [
       "<IPython.core.display.Javascript object>"
      ]
     },
     "metadata": {},
     "output_type": "display_data"
    },
    {
     "data": {
      "text/markdown": [
       "<span style=\"color:#33cc33\">Correct</span>"
      ],
      "text/plain": [
       "Correct"
      ]
     },
     "metadata": {},
     "output_type": "display_data"
    }
   ],
   "source": [
    "# Path of the file to read\n",
    "candy_filepath = \"../input/candy.csv\"\n",
    "\n",
    "# Fill in the line below to read the file into a variable candy_data\n",
    "candy_data = pd.read_csv(candy_filepath, index_col=\"id\")\n",
    "\n",
    "# Run the line below with no changes to check that you've loaded the data correctly\n",
    "step_1.check()"
   ]
  },
  {
   "cell_type": "code",
   "execution_count": 4,
   "id": "f90d2f45",
   "metadata": {
    "execution": {
     "iopub.execute_input": "2025-07-14T12:28:09.526293Z",
     "iopub.status.busy": "2025-07-14T12:28:09.525966Z",
     "iopub.status.idle": "2025-07-14T12:28:09.529936Z",
     "shell.execute_reply": "2025-07-14T12:28:09.529088Z"
    },
    "papermill": {
     "duration": 0.012494,
     "end_time": "2025-07-14T12:28:09.531364",
     "exception": false,
     "start_time": "2025-07-14T12:28:09.518870",
     "status": "completed"
    },
    "tags": []
   },
   "outputs": [],
   "source": [
    "# Lines below will give you a hint or solution code\n",
    "#step_1.hint()\n",
    "#step_1.solution()"
   ]
  },
  {
   "cell_type": "markdown",
   "id": "0159a6a7",
   "metadata": {
    "papermill": {
     "duration": 0.005945,
     "end_time": "2025-07-14T12:28:09.543790",
     "exception": false,
     "start_time": "2025-07-14T12:28:09.537845",
     "status": "completed"
    },
    "tags": []
   },
   "source": [
    "## Step 2: Review the data\n",
    "\n",
    "Use a Python command to print the first five rows of the data."
   ]
  },
  {
   "cell_type": "code",
   "execution_count": 5,
   "id": "a303b7e2",
   "metadata": {
    "execution": {
     "iopub.execute_input": "2025-07-14T12:28:09.557289Z",
     "iopub.status.busy": "2025-07-14T12:28:09.556976Z",
     "iopub.status.idle": "2025-07-14T12:28:09.581905Z",
     "shell.execute_reply": "2025-07-14T12:28:09.580804Z"
    },
    "papermill": {
     "duration": 0.03326,
     "end_time": "2025-07-14T12:28:09.583305",
     "exception": false,
     "start_time": "2025-07-14T12:28:09.550045",
     "status": "completed"
    },
    "tags": []
   },
   "outputs": [
    {
     "data": {
      "text/html": [
       "<div>\n",
       "<style scoped>\n",
       "    .dataframe tbody tr th:only-of-type {\n",
       "        vertical-align: middle;\n",
       "    }\n",
       "\n",
       "    .dataframe tbody tr th {\n",
       "        vertical-align: top;\n",
       "    }\n",
       "\n",
       "    .dataframe thead th {\n",
       "        text-align: right;\n",
       "    }\n",
       "</style>\n",
       "<table border=\"1\" class=\"dataframe\">\n",
       "  <thead>\n",
       "    <tr style=\"text-align: right;\">\n",
       "      <th></th>\n",
       "      <th>competitorname</th>\n",
       "      <th>chocolate</th>\n",
       "      <th>fruity</th>\n",
       "      <th>caramel</th>\n",
       "      <th>peanutyalmondy</th>\n",
       "      <th>nougat</th>\n",
       "      <th>crispedricewafer</th>\n",
       "      <th>hard</th>\n",
       "      <th>bar</th>\n",
       "      <th>pluribus</th>\n",
       "      <th>sugarpercent</th>\n",
       "      <th>pricepercent</th>\n",
       "      <th>winpercent</th>\n",
       "    </tr>\n",
       "    <tr>\n",
       "      <th>id</th>\n",
       "      <th></th>\n",
       "      <th></th>\n",
       "      <th></th>\n",
       "      <th></th>\n",
       "      <th></th>\n",
       "      <th></th>\n",
       "      <th></th>\n",
       "      <th></th>\n",
       "      <th></th>\n",
       "      <th></th>\n",
       "      <th></th>\n",
       "      <th></th>\n",
       "      <th></th>\n",
       "    </tr>\n",
       "  </thead>\n",
       "  <tbody>\n",
       "    <tr>\n",
       "      <th>0</th>\n",
       "      <td>100 Grand</td>\n",
       "      <td>Yes</td>\n",
       "      <td>No</td>\n",
       "      <td>Yes</td>\n",
       "      <td>No</td>\n",
       "      <td>No</td>\n",
       "      <td>Yes</td>\n",
       "      <td>No</td>\n",
       "      <td>Yes</td>\n",
       "      <td>No</td>\n",
       "      <td>0.732</td>\n",
       "      <td>0.860</td>\n",
       "      <td>66.971725</td>\n",
       "    </tr>\n",
       "    <tr>\n",
       "      <th>1</th>\n",
       "      <td>3 Musketeers</td>\n",
       "      <td>Yes</td>\n",
       "      <td>No</td>\n",
       "      <td>No</td>\n",
       "      <td>No</td>\n",
       "      <td>Yes</td>\n",
       "      <td>No</td>\n",
       "      <td>No</td>\n",
       "      <td>Yes</td>\n",
       "      <td>No</td>\n",
       "      <td>0.604</td>\n",
       "      <td>0.511</td>\n",
       "      <td>67.602936</td>\n",
       "    </tr>\n",
       "    <tr>\n",
       "      <th>2</th>\n",
       "      <td>Air Heads</td>\n",
       "      <td>No</td>\n",
       "      <td>Yes</td>\n",
       "      <td>No</td>\n",
       "      <td>No</td>\n",
       "      <td>No</td>\n",
       "      <td>No</td>\n",
       "      <td>No</td>\n",
       "      <td>No</td>\n",
       "      <td>No</td>\n",
       "      <td>0.906</td>\n",
       "      <td>0.511</td>\n",
       "      <td>52.341465</td>\n",
       "    </tr>\n",
       "    <tr>\n",
       "      <th>3</th>\n",
       "      <td>Almond Joy</td>\n",
       "      <td>Yes</td>\n",
       "      <td>No</td>\n",
       "      <td>No</td>\n",
       "      <td>Yes</td>\n",
       "      <td>No</td>\n",
       "      <td>No</td>\n",
       "      <td>No</td>\n",
       "      <td>Yes</td>\n",
       "      <td>No</td>\n",
       "      <td>0.465</td>\n",
       "      <td>0.767</td>\n",
       "      <td>50.347546</td>\n",
       "    </tr>\n",
       "    <tr>\n",
       "      <th>4</th>\n",
       "      <td>Baby Ruth</td>\n",
       "      <td>Yes</td>\n",
       "      <td>No</td>\n",
       "      <td>Yes</td>\n",
       "      <td>Yes</td>\n",
       "      <td>Yes</td>\n",
       "      <td>No</td>\n",
       "      <td>No</td>\n",
       "      <td>Yes</td>\n",
       "      <td>No</td>\n",
       "      <td>0.604</td>\n",
       "      <td>0.767</td>\n",
       "      <td>56.914547</td>\n",
       "    </tr>\n",
       "  </tbody>\n",
       "</table>\n",
       "</div>"
      ],
      "text/plain": [
       "   competitorname chocolate fruity caramel peanutyalmondy nougat  \\\n",
       "id                                                                 \n",
       "0       100 Grand       Yes     No     Yes             No     No   \n",
       "1    3 Musketeers       Yes     No      No             No    Yes   \n",
       "2       Air Heads        No    Yes      No             No     No   \n",
       "3      Almond Joy       Yes     No      No            Yes     No   \n",
       "4       Baby Ruth       Yes     No     Yes            Yes    Yes   \n",
       "\n",
       "   crispedricewafer hard  bar pluribus  sugarpercent  pricepercent  winpercent  \n",
       "id                                                                              \n",
       "0               Yes   No  Yes       No         0.732         0.860   66.971725  \n",
       "1                No   No  Yes       No         0.604         0.511   67.602936  \n",
       "2                No   No   No       No         0.906         0.511   52.341465  \n",
       "3                No   No  Yes       No         0.465         0.767   50.347546  \n",
       "4                No   No  Yes       No         0.604         0.767   56.914547  "
      ]
     },
     "execution_count": 5,
     "metadata": {},
     "output_type": "execute_result"
    }
   ],
   "source": [
    "# Print the first five rows of the data\n",
    "____ # Your code here\n",
    "candy_data.head()"
   ]
  },
  {
   "cell_type": "markdown",
   "id": "1a34d4d7",
   "metadata": {
    "papermill": {
     "duration": 0.005924,
     "end_time": "2025-07-14T12:28:09.595947",
     "exception": false,
     "start_time": "2025-07-14T12:28:09.590023",
     "status": "completed"
    },
    "tags": []
   },
   "source": [
    "The dataset contains 83 rows, where each corresponds to a different candy bar.  There are 13 columns:\n",
    "- `'competitorname'` contains the name of the candy bar. \n",
    "- the next **9** columns (from `'chocolate'` to `'pluribus'`) describe the candy.  For instance, rows with chocolate candies have `\"Yes\"` in the `'chocolate'` column (and candies without chocolate have `\"No\"` in the same column).\n",
    "- `'sugarpercent'` provides some indication of the amount of sugar, where higher values signify higher sugar content.\n",
    "- `'pricepercent'` shows the price per unit, relative to the other candies in the dataset.\n",
    "- `'winpercent'` is calculated from the survey results; higher values indicate that the candy was more popular with survey respondents.\n",
    "\n",
    "Use the first five rows of the data to answer the questions below."
   ]
  },
  {
   "cell_type": "code",
   "execution_count": 6,
   "id": "e6a7c782",
   "metadata": {
    "execution": {
     "iopub.execute_input": "2025-07-14T12:28:09.609402Z",
     "iopub.status.busy": "2025-07-14T12:28:09.609093Z",
     "iopub.status.idle": "2025-07-14T12:28:09.616498Z",
     "shell.execute_reply": "2025-07-14T12:28:09.615752Z"
    },
    "papermill": {
     "duration": 0.01587,
     "end_time": "2025-07-14T12:28:09.617929",
     "exception": false,
     "start_time": "2025-07-14T12:28:09.602059",
     "status": "completed"
    },
    "tags": []
   },
   "outputs": [
    {
     "data": {
      "application/javascript": [
       "parent.postMessage({\"jupyterEvent\": \"custom.exercise_interaction\", \"data\": {\"outcomeType\": 1, \"valueTowardsCompletion\": 0.3333333333333333, \"interactionType\": 1, \"questionType\": 1, \"questionId\": \"2_ReviewData\", \"learnToolsVersion\": \"0.3.5\", \"failureMessage\": \"\", \"exceptionClass\": \"\", \"trace\": \"\"}}, \"*\")"
      ],
      "text/plain": [
       "<IPython.core.display.Javascript object>"
      ]
     },
     "metadata": {},
     "output_type": "display_data"
    },
    {
     "data": {
      "text/markdown": [
       "<span style=\"color:#33cc33\">Correct</span>"
      ],
      "text/plain": [
       "Correct"
      ]
     },
     "metadata": {},
     "output_type": "display_data"
    }
   ],
   "source": [
    "# Fill in the line below: Which candy was more popular with survey respondents:\n",
    "# '3 Musketeers' or 'Almond Joy'?  (Please enclose your answer in single quotes.)\n",
    "more_popular = '3 Musketeers'\n",
    "\n",
    "# Fill in the line below: Which candy has higher sugar content: 'Air Heads'\n",
    "# or 'Baby Ruth'? (Please enclose your answer in single quotes.)\n",
    "more_sugar = 'Air Heads'\n",
    "\n",
    "# Check your answers\n",
    "step_2.check()"
   ]
  },
  {
   "cell_type": "code",
   "execution_count": 7,
   "id": "a95d75b9",
   "metadata": {
    "execution": {
     "iopub.execute_input": "2025-07-14T12:28:09.632618Z",
     "iopub.status.busy": "2025-07-14T12:28:09.632334Z",
     "iopub.status.idle": "2025-07-14T12:28:09.636227Z",
     "shell.execute_reply": "2025-07-14T12:28:09.635466Z"
    },
    "papermill": {
     "duration": 0.013166,
     "end_time": "2025-07-14T12:28:09.637579",
     "exception": false,
     "start_time": "2025-07-14T12:28:09.624413",
     "status": "completed"
    },
    "tags": []
   },
   "outputs": [],
   "source": [
    "# Lines below will give you a hint or solution code\n",
    "#step_2.hint()\n",
    "#step_2.solution()"
   ]
  },
  {
   "cell_type": "markdown",
   "id": "37c8ace8",
   "metadata": {
    "papermill": {
     "duration": 0.005978,
     "end_time": "2025-07-14T12:28:09.650140",
     "exception": false,
     "start_time": "2025-07-14T12:28:09.644162",
     "status": "completed"
    },
    "tags": []
   },
   "source": [
    "## Step 3: The role of sugar\n",
    "\n",
    "Do people tend to prefer candies with higher sugar content?  \n",
    "\n",
    "#### Part A\n",
    "\n",
    "Create a scatter plot that shows the relationship between `'sugarpercent'` (on the horizontal x-axis) and `'winpercent'` (on the vertical y-axis).  _Don't add a regression line just yet -- you'll do that in the next step!_"
   ]
  },
  {
   "cell_type": "code",
   "execution_count": 8,
   "id": "f7d3409a",
   "metadata": {
    "execution": {
     "iopub.execute_input": "2025-07-14T12:28:09.663769Z",
     "iopub.status.busy": "2025-07-14T12:28:09.663407Z",
     "iopub.status.idle": "2025-07-14T12:28:10.094865Z",
     "shell.execute_reply": "2025-07-14T12:28:10.093932Z"
    },
    "papermill": {
     "duration": 0.440079,
     "end_time": "2025-07-14T12:28:10.096415",
     "exception": false,
     "start_time": "2025-07-14T12:28:09.656336",
     "status": "completed"
    },
    "tags": []
   },
   "outputs": [
    {
     "data": {
      "application/javascript": [
       "parent.postMessage({\"jupyterEvent\": \"custom.exercise_interaction\", \"data\": {\"outcomeType\": 1, \"valueTowardsCompletion\": 0.3333333333333333, \"interactionType\": 1, \"questionType\": 2, \"questionId\": \"3.1_PlotBlueScatter\", \"learnToolsVersion\": \"0.3.5\", \"failureMessage\": \"\", \"exceptionClass\": \"\", \"trace\": \"\"}}, \"*\")"
      ],
      "text/plain": [
       "<IPython.core.display.Javascript object>"
      ]
     },
     "metadata": {},
     "output_type": "display_data"
    },
    {
     "data": {
      "text/markdown": [
       "<span style=\"color:#33cc33\">Correct</span>"
      ],
      "text/plain": [
       "Correct"
      ]
     },
     "metadata": {},
     "output_type": "display_data"
    },
    {
     "data": {
      "image/png": "[encoded data removed]",
      "text/plain": [
       "<Figure size 640x480 with 1 Axes>"
      ]
     },
     "metadata": {},
     "output_type": "display_data"
    }
   ],
   "source": [
    "# Scatter plot showing the relationship between 'sugarpercent' and 'winpercent'\n",
    "sns.scatterplot(x=candy_data['sugarpercent'], y=candy_data['winpercent']) # Your code here\n",
    "\n",
    "# Check your answer\n",
    "step_3.a.check()"
   ]
  },
  {
   "cell_type": "code",
   "execution_count": 9,
   "id": "3de30cce",
   "metadata": {
    "execution": {
     "iopub.execute_input": "2025-07-14T12:28:10.112118Z",
     "iopub.status.busy": "2025-07-14T12:28:10.111798Z",
     "iopub.status.idle": "2025-07-14T12:28:10.115955Z",
     "shell.execute_reply": "2025-07-14T12:28:10.115012Z"
    },
    "papermill": {
     "duration": 0.013521,
     "end_time": "2025-07-14T12:28:10.117345",
     "exception": false,
     "start_time": "2025-07-14T12:28:10.103824",
     "status": "completed"
    },
    "tags": []
   },
   "outputs": [],
   "source": [
    "# Lines below will give you a hint or solution code\n",
    "#step_3.a.hint()\n",
    "#step_3.a.solution_plot()"
   ]
  },
  {
   "cell_type": "markdown",
   "id": "81d433dd",
   "metadata": {
    "papermill": {
     "duration": 0.007076,
     "end_time": "2025-07-14T12:28:10.132105",
     "exception": false,
     "start_time": "2025-07-14T12:28:10.125029",
     "status": "completed"
    },
    "tags": []
   },
   "source": [
    "#### Part B\n",
    "\n",
    "Does the scatter plot show a **strong** correlation between the two variables?  If so, are candies with more sugar relatively more or less popular with the survey respondents?"
   ]
  },
  {
   "cell_type": "code",
   "execution_count": 10,
   "id": "29bd0fa6",
   "metadata": {
    "execution": {
     "iopub.execute_input": "2025-07-14T12:28:10.148388Z",
     "iopub.status.busy": "2025-07-14T12:28:10.148064Z",
     "iopub.status.idle": "2025-07-14T12:28:10.152304Z",
     "shell.execute_reply": "2025-07-14T12:28:10.151493Z"
    },
    "papermill": {
     "duration": 0.013964,
     "end_time": "2025-07-14T12:28:10.153863",
     "exception": false,
     "start_time": "2025-07-14T12:28:10.139899",
     "status": "completed"
    },
    "tags": []
   },
   "outputs": [],
   "source": [
    "#step_3.b.hint()"
   ]
  },
  {
   "cell_type": "code",
   "execution_count": 11,
   "id": "c8cfb083",
   "metadata": {
    "execution": {
     "iopub.execute_input": "2025-07-14T12:28:10.169447Z",
     "iopub.status.busy": "2025-07-14T12:28:10.169139Z",
     "iopub.status.idle": "2025-07-14T12:28:10.176545Z",
     "shell.execute_reply": "2025-07-14T12:28:10.175576Z"
    },
    "papermill": {
     "duration": 0.017063,
     "end_time": "2025-07-14T12:28:10.178213",
     "exception": false,
     "start_time": "2025-07-14T12:28:10.161150",
     "status": "completed"
    },
    "tags": []
   },
   "outputs": [
    {
     "data": {
      "application/javascript": [
       "parent.postMessage({\"jupyterEvent\": \"custom.exercise_interaction\", \"data\": {\"interactionType\": 3, \"questionType\": 4, \"questionId\": \"3.2_ThinkBlueScatter\", \"learnToolsVersion\": \"0.3.5\", \"valueTowardsCompletion\": 0.0, \"failureMessage\": \"\", \"exceptionClass\": \"\", \"trace\": \"\", \"outcomeType\": 4}}, \"*\")"
      ],
      "text/plain": [
       "<IPython.core.display.Javascript object>"
      ]
     },
     "metadata": {},
     "output_type": "display_data"
    },
    {
     "data": {
      "text/markdown": [
       "<span style=\"color:#33cc99\">Solution:</span> The scatter plot does not show a strong correlation between the two variables. Since there is no clear relationship between the two variables, this tells us that sugar content does not play a strong role in candy popularity."
      ],
      "text/plain": [
       "Solution: The scatter plot does not show a strong correlation between the two variables. Since there is no clear relationship between the two variables, this tells us that sugar content does not play a strong role in candy popularity."
      ]
     },
     "metadata": {},
     "output_type": "display_data"
    }
   ],
   "source": [
    "# Check your answer (Run this code cell to receive credit!)\n",
    "step_3.b.solution()"
   ]
  },
  {
   "cell_type": "markdown",
   "id": "26636a79",
   "metadata": {
    "papermill": {
     "duration": 0.00716,
     "end_time": "2025-07-14T12:28:10.193338",
     "exception": false,
     "start_time": "2025-07-14T12:28:10.186178",
     "status": "completed"
    },
    "tags": []
   },
   "source": [
    "## Step 4: Take a closer look\n",
    "\n",
    "#### Part A\n",
    "\n",
    "Create the same scatter plot you created in **Step 3**, but now with a regression line!"
   ]
  },
  {
   "cell_type": "code",
   "execution_count": 12,
   "id": "52868c66",
   "metadata": {
    "execution": {
     "iopub.execute_input": "2025-07-14T12:28:10.209310Z",
     "iopub.status.busy": "2025-07-14T12:28:10.208998Z",
     "iopub.status.idle": "2025-07-14T12:28:10.526620Z",
     "shell.execute_reply": "2025-07-14T12:28:10.525761Z"
    },
    "papermill": {
     "duration": 0.327475,
     "end_time": "2025-07-14T12:28:10.528224",
     "exception": false,
     "start_time": "2025-07-14T12:28:10.200749",
     "status": "completed"
    },
    "tags": []
   },
   "outputs": [
    {
     "data": {
      "application/javascript": [
       "parent.postMessage({\"jupyterEvent\": \"custom.exercise_interaction\", \"data\": {\"outcomeType\": 1, \"valueTowardsCompletion\": 0.3333333333333333, \"interactionType\": 1, \"questionType\": 2, \"questionId\": \"4.1_PlotBlueReg\", \"learnToolsVersion\": \"0.3.5\", \"failureMessage\": \"\", \"exceptionClass\": \"\", \"trace\": \"\"}}, \"*\")"
      ],
      "text/plain": [
       "<IPython.core.display.Javascript object>"
      ]
     },
     "metadata": {},
     "output_type": "display_data"
    },
    {
     "data": {
      "text/markdown": [
       "<span style=\"color:#33cc33\">Correct</span>"
      ],
      "text/plain": [
       "Correct"
      ]
     },
     "metadata": {},
     "output_type": "display_data"
    },
    {
     "data": {
      "image/png": "[encoded data removed]",
      "text/plain": [
       "<Figure size 640x480 with 1 Axes>"
      ]
     },
     "metadata": {},
     "output_type": "display_data"
    }
   ],
   "source": [
    "# Scatter plot w/ regression line showing the relationship between 'sugarpercent' and 'winpercent'\n",
    "sns.regplot(x=candy_data['sugarpercent'], y=candy_data['winpercent']) # Your code here\n",
    "\n",
    "# Check your answer\n",
    "step_4.a.check()"
   ]
  },
  {
   "cell_type": "code",
   "execution_count": 13,
   "id": "2e451ddf",
   "metadata": {
    "execution": {
     "iopub.execute_input": "2025-07-14T12:28:10.548680Z",
     "iopub.status.busy": "2025-07-14T12:28:10.547706Z",
     "iopub.status.idle": "2025-07-14T12:28:10.551865Z",
     "shell.execute_reply": "2025-07-14T12:28:10.551058Z"
    },
    "papermill": {
     "duration": 0.016028,
     "end_time": "2025-07-14T12:28:10.553451",
     "exception": false,
     "start_time": "2025-07-14T12:28:10.537423",
     "status": "completed"
    },
    "tags": []
   },
   "outputs": [],
   "source": [
    "# Lines below will give you a hint or solution code\n",
    "#step_4.a.hint()\n",
    "#step_4.a.solution_plot()"
   ]
  },
  {
   "cell_type": "markdown",
   "id": "28ee36a4",
   "metadata": {
    "papermill": {
     "duration": 0.007714,
     "end_time": "2025-07-14T12:28:10.570161",
     "exception": false,
     "start_time": "2025-07-14T12:28:10.562447",
     "status": "completed"
    },
    "tags": []
   },
   "source": [
    "#### Part B\n",
    "\n",
    "According to the plot above, is there a **slight** correlation between `'winpercent'` and `'sugarpercent'`?  What does this tell you about the candy that people tend to prefer?"
   ]
  },
  {
   "cell_type": "code",
   "execution_count": 14,
   "id": "0d5e738c",
   "metadata": {
    "execution": {
     "iopub.execute_input": "2025-07-14T12:28:10.587392Z",
     "iopub.status.busy": "2025-07-14T12:28:10.587066Z",
     "iopub.status.idle": "2025-07-14T12:28:10.591520Z",
     "shell.execute_reply": "2025-07-14T12:28:10.590755Z"
    },
    "papermill": {
     "duration": 0.015056,
     "end_time": "2025-07-14T12:28:10.593099",
     "exception": false,
     "start_time": "2025-07-14T12:28:10.578043",
     "status": "completed"
    },
    "tags": []
   },
   "outputs": [],
   "source": [
    "#step_4.b.hint()"
   ]
  },
  {
   "cell_type": "code",
   "execution_count": 15,
   "id": "1a26a414",
   "metadata": {
    "execution": {
     "iopub.execute_input": "2025-07-14T12:28:10.610372Z",
     "iopub.status.busy": "2025-07-14T12:28:10.610047Z",
     "iopub.status.idle": "2025-07-14T12:28:10.616935Z",
     "shell.execute_reply": "2025-07-14T12:28:10.616102Z"
    },
    "papermill": {
     "duration": 0.016951,
     "end_time": "2025-07-14T12:28:10.618239",
     "exception": false,
     "start_time": "2025-07-14T12:28:10.601288",
     "status": "completed"
    },
    "tags": []
   },
   "outputs": [
    {
     "data": {
      "application/javascript": [
       "parent.postMessage({\"jupyterEvent\": \"custom.exercise_interaction\", \"data\": {\"interactionType\": 3, \"questionType\": 4, \"questionId\": \"4.2_ThinkBlueReg\", \"learnToolsVersion\": \"0.3.5\", \"valueTowardsCompletion\": 0.0, \"failureMessage\": \"\", \"exceptionClass\": \"\", \"trace\": \"\", \"outcomeType\": 4}}, \"*\")"
      ],
      "text/plain": [
       "<IPython.core.display.Javascript object>"
      ]
     },
     "metadata": {},
     "output_type": "display_data"
    },
    {
     "data": {
      "text/markdown": [
       "<span style=\"color:#33cc99\">Solution:</span> Since the regression line has a slightly positive slope, this tells us that there is a slightly positive correlation between `'winpercent'` and `'sugarpercent'`. Thus, people have a slight preference for candies containing relatively more sugar."
      ],
      "text/plain": [
       "Solution: Since the regression line has a slightly positive slope, this tells us that there is a slightly positive correlation between `'winpercent'` and `'sugarpercent'`. Thus, people have a slight preference for candies containing relatively more sugar."
      ]
     },
     "metadata": {},
     "output_type": "display_data"
    }
   ],
   "source": [
    "# Check your answer (Run this code cell to receive credit!)\n",
    "step_4.b.solution()"
   ]
  },
  {
   "cell_type": "markdown",
   "id": "adc92dcd",
   "metadata": {
    "papermill": {
     "duration": 0.00763,
     "end_time": "2025-07-14T12:28:10.634101",
     "exception": false,
     "start_time": "2025-07-14T12:28:10.626471",
     "status": "completed"
    },
    "tags": []
   },
   "source": [
    "## Step 5: Chocolate!\n",
    "\n",
    "In the code cell below, create a scatter plot to show the relationship between `'pricepercent'` (on the horizontal x-axis) and `'winpercent'` (on the vertical y-axis). Use the `'chocolate'` column to color-code the points.  _Don't add any regression lines just yet -- you'll do that in the next step!_"
   ]
  },
  {
   "cell_type": "code",
   "execution_count": 16,
   "id": "629f661c",
   "metadata": {
    "execution": {
     "iopub.execute_input": "2025-07-14T12:28:10.651794Z",
     "iopub.status.busy": "2025-07-14T12:28:10.650996Z",
     "iopub.status.idle": "2025-07-14T12:28:10.917417Z",
     "shell.execute_reply": "2025-07-14T12:28:10.916551Z"
    },
    "papermill": {
     "duration": 0.277046,
     "end_time": "2025-07-14T12:28:10.919122",
     "exception": false,
     "start_time": "2025-07-14T12:28:10.642076",
     "status": "completed"
    },
    "tags": []
   },
   "outputs": [
    {
     "data": {
      "application/javascript": [
       "parent.postMessage({\"jupyterEvent\": \"custom.exercise_interaction\", \"data\": {\"outcomeType\": 1, \"valueTowardsCompletion\": 0.3333333333333333, \"interactionType\": 1, \"questionType\": 2, \"questionId\": \"5_ColorScatter\", \"learnToolsVersion\": \"0.3.5\", \"failureMessage\": \"\", \"exceptionClass\": \"\", \"trace\": \"\"}}, \"*\")"
      ],
      "text/plain": [
       "<IPython.core.display.Javascript object>"
      ]
     },
     "metadata": {},
     "output_type": "display_data"
    },
    {
     "data": {
      "text/markdown": [
       "<span style=\"color:#33cc33\">Correct</span>"
      ],
      "text/plain": [
       "Correct"
      ]
     },
     "metadata": {},
     "output_type": "display_data"
    },
    {
     "data": {
      "image/png": "[encoded data removed]",
      "text/plain": [
       "<Figure size 640x480 with 1 Axes>"
      ]
     },
     "metadata": {},
     "output_type": "display_data"
    }
   ],
   "source": [
    "# Scatter plot showing the relationship between 'pricepercent', 'winpercent', and 'chocolate'\n",
    "sns.scatterplot(x='pricepercent', y='winpercent', hue='chocolate', data=candy_data) # Your code here\n",
    "\n",
    "# Check your answer\n",
    "step_5.check()"
   ]
  },
  {
   "cell_type": "code",
   "execution_count": 17,
   "id": "7a254d1a",
   "metadata": {
    "execution": {
     "iopub.execute_input": "2025-07-14T12:28:10.938414Z",
     "iopub.status.busy": "2025-07-14T12:28:10.938134Z",
     "iopub.status.idle": "2025-07-14T12:28:10.941966Z",
     "shell.execute_reply": "2025-07-14T12:28:10.941227Z"
    },
    "papermill": {
     "duration": 0.015129,
     "end_time": "2025-07-14T12:28:10.943351",
     "exception": false,
     "start_time": "2025-07-14T12:28:10.928222",
     "status": "completed"
    },
    "tags": []
   },
   "outputs": [],
   "source": [
    "# Lines below will give you a hint or solution code\n",
    "#step_5.hint()\n",
    "#step_5.solution_plot()"
   ]
  },
  {
   "cell_type": "markdown",
   "id": "e314c625",
   "metadata": {
    "papermill": {
     "duration": 0.008494,
     "end_time": "2025-07-14T12:28:11.029805",
     "exception": false,
     "start_time": "2025-07-14T12:28:11.021311",
     "status": "completed"
    },
    "tags": []
   },
   "source": [
    "Can you see any interesting patterns in the scatter plot?  We'll investigate this plot further  by adding regression lines in the next step!\n",
    "\n",
    "## Step 6: Investigate chocolate\n",
    "\n",
    "#### Part A\n",
    "\n",
    "Create the same scatter plot you created in **Step 5**, but now with two regression lines, corresponding to (1) chocolate candies and (2) candies without chocolate."
   ]
  },
  {
   "cell_type": "code",
   "execution_count": 18,
   "id": "5961467e",
   "metadata": {
    "execution": {
     "iopub.execute_input": "2025-07-14T12:28:11.049221Z",
     "iopub.status.busy": "2025-07-14T12:28:11.048395Z",
     "iopub.status.idle": "2025-07-14T12:28:11.658482Z",
     "shell.execute_reply": "2025-07-14T12:28:11.657533Z"
    },
    "papermill": {
     "duration": 0.621687,
     "end_time": "2025-07-14T12:28:11.660327",
     "exception": false,
     "start_time": "2025-07-14T12:28:11.038640",
     "status": "completed"
    },
    "tags": []
   },
   "outputs": [
    {
     "data": {
      "application/javascript": [
       "parent.postMessage({\"jupyterEvent\": \"custom.exercise_interaction\", \"data\": {\"outcomeType\": 1, \"valueTowardsCompletion\": 0.3333333333333333, \"interactionType\": 1, \"questionType\": 2, \"questionId\": \"6.1_PlotColorReg\", \"learnToolsVersion\": \"0.3.5\", \"failureMessage\": \"\", \"exceptionClass\": \"\", \"trace\": \"\"}}, \"*\")"
      ],
      "text/plain": [
       "<IPython.core.display.Javascript object>"
      ]
     },
     "metadata": {},
     "output_type": "display_data"
    },
    {
     "data": {
      "text/markdown": [
       "<span style=\"color:#33cc33\">Correct</span>"
      ],
      "text/plain": [
       "Correct"
      ]
     },
     "metadata": {},
     "output_type": "display_data"
    },
    {
     "data": {
      "image/png": "[encoded data removed]",
      "text/plain": [
       "<Figure size 578.611x500 with 1 Axes>"
      ]
     },
     "metadata": {},
     "output_type": "display_data"
    }
   ],
   "source": [
    "# Color-coded scatter plot w/ regression lines\n",
    "sns.lmplot(x='pricepercent', y='winpercent', hue='chocolate', data=candy_data) # Your code here\n",
    "\n",
    "# Check your answer\n",
    "step_6.a.check()"
   ]
  },
  {
   "cell_type": "code",
   "execution_count": 19,
   "id": "de854f08",
   "metadata": {
    "execution": {
     "iopub.execute_input": "2025-07-14T12:28:11.682624Z",
     "iopub.status.busy": "2025-07-14T12:28:11.682314Z",
     "iopub.status.idle": "2025-07-14T12:28:11.686983Z",
     "shell.execute_reply": "2025-07-14T12:28:11.685759Z"
    },
    "papermill": {
     "duration": 0.01842,
     "end_time": "2025-07-14T12:28:11.688897",
     "exception": false,
     "start_time": "2025-07-14T12:28:11.670477",
     "status": "completed"
    },
    "tags": []
   },
   "outputs": [],
   "source": [
    "# Lines below will give you a hint or solution code\n",
    "#step_6.a.hint()\n",
    "#step_6.a.solution_plot()"
   ]
  },
  {
   "cell_type": "markdown",
   "id": "087541ff",
   "metadata": {
    "papermill": {
     "duration": 0.010097,
     "end_time": "2025-07-14T12:28:11.709956",
     "exception": false,
     "start_time": "2025-07-14T12:28:11.699859",
     "status": "completed"
    },
    "tags": []
   },
   "source": [
    "#### Part B\n",
    "\n",
    "Using the regression lines, what conclusions can you draw about the effects of chocolate and price on candy popularity?"
   ]
  },
  {
   "cell_type": "code",
   "execution_count": 20,
   "id": "11f2dfe8",
   "metadata": {
    "execution": {
     "iopub.execute_input": "2025-07-14T12:28:11.732590Z",
     "iopub.status.busy": "2025-07-14T12:28:11.732302Z",
     "iopub.status.idle": "2025-07-14T12:28:11.736429Z",
     "shell.execute_reply": "2025-07-14T12:28:11.735619Z"
    },
    "papermill": {
     "duration": 0.016755,
     "end_time": "2025-07-14T12:28:11.737923",
     "exception": false,
     "start_time": "2025-07-14T12:28:11.721168",
     "status": "completed"
    },
    "tags": []
   },
   "outputs": [],
   "source": [
    "#step_6.b.hint()"
   ]
  },
  {
   "cell_type": "code",
   "execution_count": 21,
   "id": "25e93163",
   "metadata": {
    "execution": {
     "iopub.execute_input": "2025-07-14T12:28:11.759721Z",
     "iopub.status.busy": "2025-07-14T12:28:11.759036Z",
     "iopub.status.idle": "2025-07-14T12:28:11.766120Z",
     "shell.execute_reply": "2025-07-14T12:28:11.765125Z"
    },
    "papermill": {
     "duration": 0.019751,
     "end_time": "2025-07-14T12:28:11.767500",
     "exception": false,
     "start_time": "2025-07-14T12:28:11.747749",
     "status": "completed"
    },
    "tags": []
   },
   "outputs": [
    {
     "data": {
      "application/javascript": [
       "parent.postMessage({\"jupyterEvent\": \"custom.exercise_interaction\", \"data\": {\"interactionType\": 3, \"questionType\": 4, \"questionId\": \"6.2_ThinkColorReg\", \"learnToolsVersion\": \"0.3.5\", \"valueTowardsCompletion\": 0.0, \"failureMessage\": \"\", \"exceptionClass\": \"\", \"trace\": \"\", \"outcomeType\": 4}}, \"*\")"
      ],
      "text/plain": [
       "<IPython.core.display.Javascript object>"
      ]
     },
     "metadata": {},
     "output_type": "display_data"
    },
    {
     "data": {
      "text/markdown": [
       "<span style=\"color:#33cc99\">Solution:</span> We'll begin with the regression line for chocolate candies. Since this line has a slightly positive slope, we can say that more expensive chocolate candies tend to be more popular (than relatively cheaper chocolate candies).  Likewise, since the regression line for candies without chocolate has a negative slope, we can say that if candies don't contain chocolate, they tend to be more popular when they are cheaper.  One important note, however, is that the dataset is quite small -- so we shouldn't invest too much trust in these patterns!  To inspire more confidence in the results, we should add more candies to the dataset."
      ],
      "text/plain": [
       "Solution: We'll begin with the regression line for chocolate candies. Since this line has a slightly positive slope, we can say that more expensive chocolate candies tend to be more popular (than relatively cheaper chocolate candies).  Likewise, since the regression line for candies without chocolate has a negative slope, we can say that if candies don't contain chocolate, they tend to be more popular when they are cheaper.  One important note, however, is that the dataset is quite small -- so we shouldn't invest too much trust in these patterns!  To inspire more confidence in the results, we should add more candies to the dataset."
      ]
     },
     "metadata": {},
     "output_type": "display_data"
    }
   ],
   "source": [
    "# Check your answer (Run this code cell to receive credit!)\n",
    "step_6.b.solution()"
   ]
  },
  {
   "cell_type": "markdown",
   "id": "e9e905f0",
   "metadata": {
    "papermill": {
     "duration": 0.009786,
     "end_time": "2025-07-14T12:28:11.787340",
     "exception": false,
     "start_time": "2025-07-14T12:28:11.777554",
     "status": "completed"
    },
    "tags": []
   },
   "source": [
    "## Step 7: Everybody loves chocolate.\n",
    "\n",
    "#### Part A\n",
    "\n",
    "Create a categorical scatter plot to highlight the relationship between `'chocolate'` and `'winpercent'`.  Put `'chocolate'` on the (horizontal) x-axis, and `'winpercent'` on the (vertical) y-axis."
   ]
  },
  {
   "cell_type": "code",
   "execution_count": 22,
   "id": "ac5da2b7",
   "metadata": {
    "execution": {
     "iopub.execute_input": "2025-07-14T12:28:11.808851Z",
     "iopub.status.busy": "2025-07-14T12:28:11.808104Z",
     "iopub.status.idle": "2025-07-14T12:28:12.072564Z",
     "shell.execute_reply": "2025-07-14T12:28:12.071582Z"
    },
    "papermill": {
     "duration": 0.27699,
     "end_time": "2025-07-14T12:28:12.074177",
     "exception": false,
     "start_time": "2025-07-14T12:28:11.797187",
     "status": "completed"
    },
    "tags": []
   },
   "outputs": [
    {
     "data": {
      "application/javascript": [
       "parent.postMessage({\"jupyterEvent\": \"custom.exercise_interaction\", \"data\": {\"outcomeType\": 1, \"valueTowardsCompletion\": 0.3333333333333333, \"interactionType\": 1, \"questionType\": 2, \"questionId\": \"7.1_PlotSwarm\", \"learnToolsVersion\": \"0.3.5\", \"failureMessage\": \"\", \"exceptionClass\": \"\", \"trace\": \"\"}}, \"*\")"
      ],
      "text/plain": [
       "<IPython.core.display.Javascript object>"
      ]
     },
     "metadata": {},
     "output_type": "display_data"
    },
    {
     "data": {
      "text/markdown": [
       "<span style=\"color:#33cc33\">Correct</span>"
      ],
      "text/plain": [
       "Correct"
      ]
     },
     "metadata": {},
     "output_type": "display_data"
    },
    {
     "data": {
      "image/png": "[encoded data removed]",
      "text/plain": [
       "<Figure size 640x480 with 1 Axes>"
      ]
     },
     "metadata": {},
     "output_type": "display_data"
    }
   ],
   "source": [
    "# Scatter plot showing the relationship between 'chocolate' and 'winpercent'\n",
    "sns.swarmplot(x=\"chocolate\", y=\"winpercent\", data=candy_data) # Your code here\n",
    "\n",
    "# Check your answer\n",
    "step_7.a.check()"
   ]
  },
  {
   "cell_type": "code",
   "execution_count": 23,
   "id": "afa0f975",
   "metadata": {
    "execution": {
     "iopub.execute_input": "2025-07-14T12:28:12.096785Z",
     "iopub.status.busy": "2025-07-14T12:28:12.096422Z",
     "iopub.status.idle": "2025-07-14T12:28:12.100450Z",
     "shell.execute_reply": "2025-07-14T12:28:12.099746Z"
    },
    "papermill": {
     "duration": 0.016859,
     "end_time": "2025-07-14T12:28:12.101846",
     "exception": false,
     "start_time": "2025-07-14T12:28:12.084987",
     "status": "completed"
    },
    "tags": []
   },
   "outputs": [],
   "source": [
    "# Lines below will give you a hint or solution code\n",
    "#step_7.a.hint()\n",
    "#step_7.a.solution_plot()"
   ]
  },
  {
   "cell_type": "markdown",
   "id": "ff29a322",
   "metadata": {
    "papermill": {
     "duration": 0.010217,
     "end_time": "2025-07-14T12:28:12.122560",
     "exception": false,
     "start_time": "2025-07-14T12:28:12.112343",
     "status": "completed"
    },
    "tags": []
   },
   "source": [
    "#### Part B\n",
    "\n",
    "You decide to dedicate a section of your report to the fact that chocolate candies tend to be more popular than candies without chocolate.  Which plot is more appropriate to tell this story: the plot from **Step 6**, or the plot from **Step 7**?"
   ]
  },
  {
   "cell_type": "code",
   "execution_count": 24,
   "id": "7ee381be",
   "metadata": {
    "execution": {
     "iopub.execute_input": "2025-07-14T12:28:12.145176Z",
     "iopub.status.busy": "2025-07-14T12:28:12.144835Z",
     "iopub.status.idle": "2025-07-14T12:28:12.149082Z",
     "shell.execute_reply": "2025-07-14T12:28:12.148046Z"
    },
    "papermill": {
     "duration": 0.01739,
     "end_time": "2025-07-14T12:28:12.150610",
     "exception": false,
     "start_time": "2025-07-14T12:28:12.133220",
     "status": "completed"
    },
    "tags": []
   },
   "outputs": [],
   "source": [
    "#step_7.b.hint()"
   ]
  },
  {
   "cell_type": "code",
   "execution_count": 25,
   "id": "ae46588a",
   "metadata": {
    "execution": {
     "iopub.execute_input": "2025-07-14T12:28:12.173561Z",
     "iopub.status.busy": "2025-07-14T12:28:12.173250Z",
     "iopub.status.idle": "2025-07-14T12:28:12.181001Z",
     "shell.execute_reply": "2025-07-14T12:28:12.180046Z"
    },
    "papermill": {
     "duration": 0.021203,
     "end_time": "2025-07-14T12:28:12.182672",
     "exception": false,
     "start_time": "2025-07-14T12:28:12.161469",
     "status": "completed"
    },
    "tags": []
   },
   "outputs": [
    {
     "data": {
      "application/javascript": [
       "parent.postMessage({\"jupyterEvent\": \"custom.exercise_interaction\", \"data\": {\"interactionType\": 3, \"questionType\": 4, \"questionId\": \"7.2_ThinkSwarm\", \"learnToolsVersion\": \"0.3.5\", \"valueTowardsCompletion\": 0.0, \"failureMessage\": \"\", \"exceptionClass\": \"\", \"trace\": \"\", \"outcomeType\": 4}}, \"*\")"
      ],
      "text/plain": [
       "<IPython.core.display.Javascript object>"
      ]
     },
     "metadata": {},
     "output_type": "display_data"
    },
    {
     "data": {
      "text/markdown": [
       "<span style=\"color:#33cc99\">Solution:</span> In this case, the categorical scatter plot from **Step 7** is the more appropriate plot. While both plots tell the desired story, the plot from **Step 6** conveys far more information that could distract from the main point."
      ],
      "text/plain": [
       "Solution: In this case, the categorical scatter plot from **Step 7** is the more appropriate plot. While both plots tell the desired story, the plot from **Step 6** conveys far more information that could distract from the main point."
      ]
     },
     "metadata": {},
     "output_type": "display_data"
    }
   ],
   "source": [
    "# Check your answer (Run this code cell to receive credit!)\n",
    "step_7.b.solution()"
   ]
  },
  {
   "cell_type": "markdown",
   "id": "27578b36",
   "metadata": {
    "papermill": {
     "duration": 0.010731,
     "end_time": "2025-07-14T12:28:12.204556",
     "exception": false,
     "start_time": "2025-07-14T12:28:12.193825",
     "status": "completed"
    },
    "tags": []
   },
   "source": [
    "## Keep going\n",
    "\n",
    "Explore **[histograms and density plots](https://www.kaggle.com/alexisbcook/distributions)**."
   ]
  },
  {
   "cell_type": "markdown",
   "id": "478ec54e",
   "metadata": {
    "papermill": {
     "duration": 0.010758,
     "end_time": "2025-07-14T12:28:12.227045",
     "exception": false,
     "start_time": "2025-07-14T12:28:12.216287",
     "status": "completed"
    },
    "tags": []
   },
   "source": [
    "---\n",
    "\n",
    "\n",
    "\n",
    "\n",
    "*Have questions or comments? Visit the [course discussion forum](https://www.kaggle.com/learn/data-visualization/discussion) to chat with other learners.*"
   ]
  }
 ],
 "metadata": {
  "kaggle": {
   "accelerator": "none",
   "dataSources": [
    {
     "datasetId": 116573,
     "sourceId": 3551030,
     "sourceType": "datasetVersion"
    }
   ],
   "isGpuEnabled": false,
   "isInternetEnabled": false,
   "language": "python",
   "sourceType": "notebook"
  },
  "kernelspec": {
   "display_name": "Python 3",
   "language": "python",
   "name": "python3"
  },
  "language_info": {
   "codemirror_mode": {
    "name": "ipython",
    "version": 3
   },
   "file_extension": ".py",
   "mimetype": "text/x-python",
   "name": "python",
   "nbconvert_exporter": "python",
   "pygments_lexer": "ipython3",
   "version": "3.11.13"
  },
  "papermill": {
   "default_parameters": {},
   "duration": 13.903871,
   "end_time": "2025-07-14T12:28:12.960225",
   "environment_variables": {},
   "exception": null,
   "input_path": "__notebook__.ipynb",
   "output_path": "__notebook__.ipynb",
   "parameters": {},
   "start_time": "2025-07-14T12:27:59.056354",
   "version": "2.6.0"
  }
 },
 "nbformat": 4,
 "nbformat_minor": 5
}
